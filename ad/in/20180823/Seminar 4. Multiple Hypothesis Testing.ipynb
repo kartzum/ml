{
 "cells": [
  {
   "cell_type": "markdown",
   "metadata": {
    "colab_type": "text",
    "id": "ZrcnEKEm9VSM"
   },
   "source": [
    "## Множественная проверка гипотез"
   ]
  },
  {
   "cell_type": "markdown",
   "metadata": {
    "colab_type": "text",
    "id": "gIuCGWcL9hFy"
   },
   "source": [
    "### План семинара\n",
    "\n",
    "1. Задача множественной проверки гипотез, зачем необходимо на практике\n",
    "2. Как высчитывать уровень значимости для каждой из гипотез.\n",
    "3. Сравниваем значения в A/B тестировании руками и при помощи Python."
   ]
  },
  {
   "cell_type": "markdown",
   "metadata": {
    "colab_type": "text",
    "id": "C_tmvJ52-OjP"
   },
   "source": [
    "## 1. Выстраиваем pipeline статистики разными способами"
   ]
  },
  {
   "cell_type": "markdown",
   "metadata": {
    "colab_type": "text",
    "id": "G_bpf171-aYP"
   },
   "source": [
    "Главной особенностью работы с любой задачей статистики является выдвижение огромного количества гипотез. Поэтому важно выстроить pipeline для работы с данными!\n",
    "\n",
    "\n",
    "Ранее мы рассмотрели следующие подходы:\n",
    "\n",
    "1. Проверка того, что среднее значение у выборки имеет такой-то вид (критерий Вальда)\n",
    "2. Проверка того, что выборка распределения является нормальной (ks-test, критерии Андерсона-Дарлинга).\n",
    "3. Проверка того, что средние значения выборок совпадают или отличны (критерии Фишера, Краскела-Уоллиса)\n",
    "4. Какое соотношение между средними величинами (попарное сравнение средних)"
   ]
  },
  {
   "cell_type": "markdown",
   "metadata": {
    "colab_type": "text",
    "id": "8-3TUf8q_rUX"
   },
   "source": [
    "<b>Задача.</b> Какое наименьшее тестов необходимо провести, если оказывается, что средние значения 5 выборок практически совпадают, они нормальные, но при этом сложно сравнимы между собой."
   ]
  },
  {
   "cell_type": "markdown",
   "metadata": {
    "colab_type": "text",
    "id": "wTL453he_-DM"
   },
   "source": [
    "Будем рассматривать следующие случаи и метрики в работе с данными:\n",
    "  - FWER - количество отвергнутых гипотез, хотя они верны\n",
    "  - FDR - средняя доля отвергнутых верных гипотез к доле всех отвергнутых гипотез."
   ]
  },
  {
   "cell_type": "markdown",
   "metadata": {
    "colab_type": "text",
    "id": "L4EE_ScbCte7"
   },
   "source": [
    "Рассмотрим шаги, которые необходимы для последовательной проверки гипотез на нормальность.\n"
   ]
  },
  {
   "cell_type": "markdown",
   "metadata": {
    "colab_type": "text",
    "id": "qVMBBlB9C2XP"
   },
   "source": [
    "Для этого обозначим те критерии, которые мы можем использовать при проверке нормальности:\n",
    "* Критерий хи-квадрат\n",
    "* ks-test\n",
    "* Критерий Андерсона-Дарлинга\n",
    "* Критерйи Шапиро-Уилка\n",
    "\n",
    "\n",
    "В чем особенность этих тестов на нормальность? Что мы делали неаккуратно в семинаре проверки на нормальность?"
   ]
  },
  {
   "cell_type": "markdown",
   "metadata": {
    "colab_type": "text",
    "id": "i53LcE4MPoty"
   },
   "source": [
    "## 2. Различные процедуры последовательной проверки гипотез"
   ]
  },
  {
   "cell_type": "markdown",
   "metadata": {
    "colab_type": "text",
    "id": "icOUR2GEDvlV"
   },
   "source": [
    "Проведем процедуру нисходящего тестирования для проверки нормальности. Начнем с самого мощного теста - Шапиро-Уилка"
   ]
  },
  {
   "cell_type": "code",
   "execution_count": 1,
   "metadata": {
    "colab": {},
    "colab_type": "code",
    "id": "35DmaDD_EC1d"
   },
   "outputs": [],
   "source": [
    "import pandas as pd\n",
    "import scipy.stats\n",
    "import numpy as np\n"
   ]
  },
  {
   "cell_type": "code",
   "execution_count": 4,
   "metadata": {
    "colab": {},
    "colab_type": "code",
    "id": "o2TrjepqEYfa"
   },
   "outputs": [],
   "source": [
    "data = pd.read_csv('./Data/wine.data', header=None)"
   ]
  },
  {
   "cell_type": "code",
   "execution_count": 6,
   "metadata": {
    "colab": {},
    "colab_type": "code",
    "id": "MwQHJEUMETXe"
   },
   "outputs": [],
   "source": [
    "ash = data[3]"
   ]
  },
  {
   "cell_type": "markdown",
   "metadata": {
    "colab_type": "text",
    "id": "psbnbzMNEsgT"
   },
   "source": [
    "Проверяем гипотезу Шапиро-Уилка о нормальности."
   ]
  },
  {
   "cell_type": "code",
   "execution_count": 7,
   "metadata": {
    "colab": {
     "base_uri": "https://localhost:8080/",
     "height": 34
    },
    "colab_type": "code",
    "executionInfo": {
     "elapsed": 447,
     "status": "ok",
     "timestamp": 1535015915455,
     "user": {
      "displayName": "Ахтямов Павел",
      "photoUrl": "//lh4.googleusercontent.com/-R4kTga_3kJQ/AAAAAAAAAAI/AAAAAAAAAYs/vamFUAF7JEY/s50-c-k-no/photo.jpg",
      "userId": "100252147030576091364"
     },
     "user_tz": -180
    },
    "id": "dTml3K-hEtJC",
    "outputId": "6b4e31a0-f11f-4d8d-93d7-6e1db2ec929b"
   },
   "outputs": [
    {
     "data": {
      "text/plain": [
       "(0.9839471578598022, 0.03868526220321655)"
      ]
     },
     "execution_count": 7,
     "metadata": {},
     "output_type": "execute_result"
    }
   ],
   "source": [
    "scipy.stats.shapiro(ash)"
   ]
  },
  {
   "cell_type": "markdown",
   "metadata": {
    "colab_type": "text",
    "id": "0cP9r3ukFTMO"
   },
   "source": [
    "Проверяем гипотезу Андерсона-Дарлинга о нормальности."
   ]
  },
  {
   "cell_type": "code",
   "execution_count": 8,
   "metadata": {
    "colab": {
     "base_uri": "https://localhost:8080/",
     "height": 74
    },
    "colab_type": "code",
    "executionInfo": {
     "elapsed": 599,
     "status": "ok",
     "timestamp": 1535015925569,
     "user": {
      "displayName": "Ахтямов Павел",
      "photoUrl": "//lh4.googleusercontent.com/-R4kTga_3kJQ/AAAAAAAAAAI/AAAAAAAAAYs/vamFUAF7JEY/s50-c-k-no/photo.jpg",
      "userId": "100252147030576091364"
     },
     "user_tz": -180
    },
    "id": "EFkEjIEJFA3J",
    "outputId": "1892ab5c-7a87-45cd-b7b4-747036b7570a"
   },
   "outputs": [
    {
     "data": {
      "text/plain": [
       "AndersonResult(statistic=0.6784320885859643, critical_values=array([0.564, 0.642, 0.77 , 0.899, 1.069]), significance_level=array([15. , 10. ,  5. ,  2.5,  1. ]))"
      ]
     },
     "execution_count": 8,
     "metadata": {},
     "output_type": "execute_result"
    }
   ],
   "source": [
    "scipy.stats.anderson(ash)"
   ]
  },
  {
   "cell_type": "markdown",
   "metadata": {
    "colab_type": "text",
    "id": "vBkiiPaHF5FL"
   },
   "source": [
    "Проверяем ks-test."
   ]
  },
  {
   "cell_type": "code",
   "execution_count": 9,
   "metadata": {
    "colab": {
     "base_uri": "https://localhost:8080/",
     "height": 34
    },
    "colab_type": "code",
    "executionInfo": {
     "elapsed": 600,
     "status": "ok",
     "timestamp": 1535015964228,
     "user": {
      "displayName": "Ахтямов Павел",
      "photoUrl": "//lh4.googleusercontent.com/-R4kTga_3kJQ/AAAAAAAAAAI/AAAAAAAAAYs/vamFUAF7JEY/s50-c-k-no/photo.jpg",
      "userId": "100252147030576091364"
     },
     "user_tz": -180
    },
    "id": "D8kjOdVXFDS4",
    "outputId": "d56cee75-b354-428c-dd81-00883c302535"
   },
   "outputs": [
    {
     "data": {
      "text/plain": [
       "KstestResult(statistic=0.057886506517667, pvalue=0.5840565143781371)"
      ]
     },
     "execution_count": 9,
     "metadata": {},
     "output_type": "execute_result"
    }
   ],
   "source": [
    "scipy.stats.kstest(ash, cdf=scipy.stats.norm(*scipy.stats.norm.fit(ash)).cdf)"
   ]
  },
  {
   "cell_type": "markdown",
   "metadata": {
    "colab_type": "text",
    "id": "u4AA5s3nGG87"
   },
   "source": [
    "Проверяем критерий хи-квадрат."
   ]
  },
  {
   "cell_type": "code",
   "execution_count": 10,
   "metadata": {
    "colab": {},
    "colab_type": "code",
    "id": "EyIw1EexFLKz"
   },
   "outputs": [],
   "source": [
    "def check_chi_square(distribution, sample, num_bins):\n",
    "    GRID = np.linspace(0, 1, num_bins + 1)\n",
    "    quantiles = distribution.ppf(GRID)\n",
    "    \n",
    "    bins = [\n",
    "        sample[\n",
    "            (sample > left) & (sample < right)\n",
    "        ] for left, right in zip(quantiles[:-1], quantiles[1:])\n",
    "    ]\n",
    "    \n",
    "    bin_sizes = np.array([len(bin_) for bin_ in bins])\n",
    "    frequencies = bin_sizes / len(sample)\n",
    "\n",
    "    return scipy.stats.chisquare(f_obs=frequencies, f_exp=np.ones(num_bins) / num_bins)"
   ]
  },
  {
   "cell_type": "code",
   "execution_count": 11,
   "metadata": {
    "colab": {
     "base_uri": "https://localhost:8080/",
     "height": 34
    },
    "colab_type": "code",
    "executionInfo": {
     "elapsed": 632,
     "status": "ok",
     "timestamp": 1535016138333,
     "user": {
      "displayName": "Ахтямов Павел",
      "photoUrl": "//lh4.googleusercontent.com/-R4kTga_3kJQ/AAAAAAAAAAI/AAAAAAAAAYs/vamFUAF7JEY/s50-c-k-no/photo.jpg",
      "userId": "100252147030576091364"
     },
     "user_tz": -180
    },
    "id": "ZKOEFy18Fwrx",
    "outputId": "33b51b66-c768-4d8c-b052-d6c05a5596b9"
   },
   "outputs": [
    {
     "data": {
      "text/plain": [
       "Power_divergenceResult(statistic=0.033581618482514834, pvalue=0.9999891383211704)"
      ]
     },
     "execution_count": 11,
     "metadata": {},
     "output_type": "execute_result"
    }
   ],
   "source": [
    "check_chi_square(scipy.stats.norm(*scipy.stats.norm.fit(ash)), ash, 6)"
   ]
  },
  {
   "cell_type": "markdown",
   "metadata": {
    "colab_type": "text",
    "id": "asemY7dyF3OO"
   },
   "source": [
    "Упорядочиваем их по p-value и проводим нисходящую процедуру.\n",
    "\n",
    "<b>Вопрос.</b> Какие уровни доверия должны быть для каждого из случаев?"
   ]
  },
  {
   "cell_type": "markdown",
   "metadata": {
    "colab_type": "text",
    "id": "hzan448MGUVF"
   },
   "source": [
    "А теперь зададимся таким вопросом: имеется куча критериев для к подбору распределения.\n",
    "\n",
    "Рассмотрим, к примеру, нормальное распределение.\n",
    "  \n",
    "Что такое отвергнутая верная гипотеза: распределение нормальное, хотя мы сказали, что она неверная.\n",
    "\n",
    "Что такое отвергнутая неверная гипотеза: распределение ненормальное, и мы сказали, что распределение не является нормальным.\n",
    "\n",
    "\n",
    "В действительности, иногда важно (при подборе распределения), важно, чтобы то, что принимаем за действительность (нашли нормальность в данных, когда ее нет) - для того, чтобы нарваться на ловушку."
   ]
  },
  {
   "cell_type": "markdown",
   "metadata": {
    "colab_type": "text",
    "id": "yW15nQJsM429"
   },
   "source": [
    "В качестве примера рассмотрим проверку одного из столбцов на распределение.\n",
    "\n",
    "У нас имелось 3 гипотезы:\n",
    "\n",
    "1. Распределение площади второго этажа нормальное (p-value = 0.002)\n",
    "2. Распределение площади второго этажа имеет распределение Стьюдента с определенными параметрами (p-value = 0)\n",
    "3. Логарифм распределения площади второго этажа имеет распределение Стьюдента (p-value = 0.55)\n",
    "\n",
    "Применяем восходящюю процедуру по методу Бенджамини-Иекутиели.\n",
    "\n",
    "$$\n",
    "\\alpha_i = \\alpha \\cdot \\frac{i}{m} \\cdot (\\sum_{j= 1}^{m} \\frac{1}{j})^{-1}\n",
    "$$"
   ]
  },
  {
   "cell_type": "markdown",
   "metadata": {
    "colab_type": "text",
    "id": "Pyb3-ZlgPIHW"
   },
   "source": [
    "<b>Вопрос 1.</b> Найдите уровни значимости критериев.\n",
    "\n",
    "<b>Вопрос 2.</b> Какие гипотезы отвергаются на уровне FDR = 0.05?"
   ]
  },
  {
   "cell_type": "markdown",
   "metadata": {
    "colab_type": "text",
    "id": "wJXNjaXJPkjx"
   },
   "source": [
    "## 3. Python в последовательной проверке гипотез "
   ]
  },
  {
   "cell_type": "markdown",
   "metadata": {
    "colab_type": "text",
    "id": "znpLZli0P1yb"
   },
   "source": [
    "В некоторых пакетах в Python (statsmodels) есть встроенные механизмы для последовательной проверке гипотез.\n",
    "\n",
    "Рассмотрим пример попарного сравнения средних величин в задаче A/B тестирования."
   ]
  },
  {
   "cell_type": "code",
   "execution_count": 12,
   "metadata": {
    "colab": {},
    "colab_type": "code",
    "id": "MC9uaCftQoWt"
   },
   "outputs": [],
   "source": [
    "from statsmodels.sandbox.stats.multicomp import MultiComparison"
   ]
  },
  {
   "cell_type": "code",
   "execution_count": 14,
   "metadata": {
    "colab": {},
    "colab_type": "code",
    "id": "auz23NWRSaje"
   },
   "outputs": [],
   "source": [
    "cnts = [2103, 2187, 2166, 2138, 1974]\n",
    "probs = [0.4213, 0.4803, 0.4690, 0.4656, 0.4313]"
   ]
  },
  {
   "cell_type": "code",
   "execution_count": 15,
   "metadata": {
    "colab": {},
    "colab_type": "code",
    "id": "RqmF8DyDQts8"
   },
   "outputs": [],
   "source": [
    "X_arrays = [\n",
    "    np.ones(cnt) for cnt in [2103, 2187, 2166, 2138, 1974]\n",
    "]\n",
    "\n",
    "groups = [\n",
    "    np.ones(cnt) * i for cnt, i in zip([2103, 2187, 2166, 2138, 1974], [1, 2, 3, 4, 5])\n",
    "]"
   ]
  },
  {
   "cell_type": "code",
   "execution_count": 16,
   "metadata": {
    "colab": {},
    "colab_type": "code",
    "id": "oRg5F6dWSBiF"
   },
   "outputs": [],
   "source": [
    "for i in range(5):\n",
    "    X_arrays[i][int(cnts[i] * probs[i]):] = 0"
   ]
  },
  {
   "cell_type": "code",
   "execution_count": 17,
   "metadata": {
    "colab": {},
    "colab_type": "code",
    "id": "RueyPRwlSkoI"
   },
   "outputs": [],
   "source": [
    "model = MultiComparison(np.concatenate(X_arrays), np.concatenate(groups))"
   ]
  },
  {
   "cell_type": "code",
   "execution_count": 18,
   "metadata": {
    "colab": {
     "base_uri": "https://localhost:8080/",
     "height": 408
    },
    "colab_type": "code",
    "executionInfo": {
     "elapsed": 612,
     "status": "ok",
     "timestamp": 1535019573378,
     "user": {
      "displayName": "Ахтямов Павел",
      "photoUrl": "//lh4.googleusercontent.com/-R4kTga_3kJQ/AAAAAAAAAAI/AAAAAAAAAYs/vamFUAF7JEY/s50-c-k-no/photo.jpg",
      "userId": "100252147030576091364"
     },
     "user_tz": -180
    },
    "id": "k9JT3bViSnSO",
    "outputId": "bab3c7e1-3dfc-4b4d-b145-460bbb67ba61"
   },
   "outputs": [
    {
     "name": "stdout",
     "output_type": "stream",
     "text": [
      "(<class 'statsmodels.iolib.table.SimpleTable'>, (array([[-3.90690173e+00,  9.49275927e-05],\n",
      "       [-3.14328740e+00,  1.68207632e-03],\n",
      "       [-2.92293192e+00,  3.48586871e-03],\n",
      "       [-6.63085984e-01,  5.07312992e-01],\n",
      "       [ 7.59868353e-01,  4.47374449e-01],\n",
      "       [ 9.69408475e-01,  3.32395658e-01],\n",
      "       [ 3.17187151e+00,  1.52562115e-03],\n",
      "       [ 2.11492961e-01,  8.32512643e-01],\n",
      "       [ 2.42327132e+00,  1.54240587e-02],\n",
      "       [ 2.20902113e+00,  2.72281363e-02]]), array([ True,  True,  True, False, False, False,  True, False, False,\n",
      "       False]), array([9.49275927e-04, 1.68207632e-02, 3.48586871e-02, 1.00000000e+00,\n",
      "       1.00000000e+00, 1.00000000e+00, 1.52562115e-02, 1.00000000e+00,\n",
      "       1.54240587e-01, 2.72281363e-01]), 0.005116196891823743, 0.005), array([(1.0, 2.0, -3.9069, 1.000e-04, 9.000e-04,  True),\n",
      "       (1.0, 3.0, -3.1433, 1.700e-03, 1.680e-02,  True),\n",
      "       (1.0, 4.0, -2.9229, 3.500e-03, 3.490e-02,  True),\n",
      "       (1.0, 5.0, -0.6631, 5.073e-01, 1.000e+00, False),\n",
      "       (2.0, 3.0,  0.7599, 4.474e-01, 1.000e+00, False),\n",
      "       (2.0, 4.0,  0.9694, 3.324e-01, 1.000e+00, False),\n",
      "       (2.0, 5.0,  3.1719, 1.500e-03, 1.530e-02,  True),\n",
      "       (3.0, 4.0,  0.2115, 8.325e-01, 1.000e+00, False),\n",
      "       (3.0, 5.0,  2.4233, 1.540e-02, 1.542e-01, False),\n",
      "       (4.0, 5.0,  2.209 , 2.720e-02, 2.723e-01, False)],\n",
      "      dtype=[('group1', 'O'), ('group2', 'O'), ('stat', '<f8'), ('pval', '<f8'), ('pval_corr', '<f8'), ('reject', '?')]))\n"
     ]
    }
   ],
   "source": [
    "print(model.allpairtest(scipy.stats.ttest_ind, 0.05))"
   ]
  },
  {
   "cell_type": "markdown",
   "metadata": {
    "colab_type": "text",
    "id": "XhsUrMg6S6jT"
   },
   "source": [
    "Какие выводы можно сделать о полученных данных?"
   ]
  },
  {
   "cell_type": "markdown",
   "metadata": {
    "colab_type": "text",
    "id": "FHf-HwSNTMad"
   },
   "source": [
    "## Что умеем?\n",
    "\n",
    "1. Выяснять, в каких целях важны восходящие и нисходящие процедуры.\n",
    "2. Уточнять имеющие гипотезы в общий pipeline.\n",
    "3. Как проводить последовательную проверку гипотез в Python."
   ]
  },
  {
   "cell_type": "markdown",
   "metadata": {
    "colab_type": "text",
    "id": "NmwrGS02Th5L"
   },
   "source": [
    "## Литература\n",
    "\n",
    "1. https://www.statsmodels.org/dev/generated/statsmodels.sandbox.stats.multicomp.MultiComparison.html - попарное сравнение моделей в Python"
   ]
  }
 ],
 "metadata": {
  "colab": {
   "collapsed_sections": [],
   "name": "Seminar 4. Multiple Hypothesis Testing.ipynb",
   "provenance": [],
   "version": "0.3.2"
  },
  "kernelspec": {
   "display_name": "Python 3",
   "language": "python",
   "name": "python3"
  },
  "language_info": {
   "codemirror_mode": {
    "name": "ipython",
    "version": 3
   },
   "file_extension": ".py",
   "mimetype": "text/x-python",
   "name": "python",
   "nbconvert_exporter": "python",
   "pygments_lexer": "ipython3",
   "version": "3.7.0"
  }
 },
 "nbformat": 4,
 "nbformat_minor": 1
}
