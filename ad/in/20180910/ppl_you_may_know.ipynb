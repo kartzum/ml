{
 "cells": [
  {
   "cell_type": "markdown",
   "metadata": {
    "slideshow": {
     "slide_type": "slide"
    }
   },
   "source": [
    "## Проверяем размеры"
   ]
  },
  {
   "cell_type": "code",
   "execution_count": null,
   "metadata": {
    "slideshow": {
     "slide_type": "fragment"
    }
   },
   "outputs": [],
   "source": [
    "!du -h"
   ]
  },
  {
   "cell_type": "code",
   "execution_count": null,
   "metadata": {},
   "outputs": [],
   "source": [
    "!du -Lh ./*"
   ]
  },
  {
   "cell_type": "code",
   "execution_count": null,
   "metadata": {},
   "outputs": [],
   "source": [
    "!head ./trainGraph/part-04998-0a6ae864-587c-4028-b321-a43d239ffa2f-c000.csv"
   ]
  },
  {
   "cell_type": "code",
   "execution_count": null,
   "metadata": {},
   "outputs": [],
   "source": [
    "!head ./coreDemography/part-r-00000"
   ]
  },
  {
   "cell_type": "code",
   "execution_count": null,
   "metadata": {},
   "outputs": [],
   "source": [
    "!pip install psutil"
   ]
  },
  {
   "cell_type": "markdown",
   "metadata": {
    "slideshow": {
     "slide_type": "fragment"
    }
   },
   "source": [
    "__152 мегабайта - piece of cake!__"
   ]
  },
  {
   "cell_type": "markdown",
   "metadata": {
    "slideshow": {
     "slide_type": "fragment"
    }
   },
   "source": [
    "### Применительно к нашей задаче\n",
    "\n",
    "* Первый прогноз можно построить по счетчику общих друзей\n",
    "* Выданный граф не симетричный\n"
   ]
  },
  {
   "cell_type": "markdown",
   "metadata": {
    "slideshow": {
     "slide_type": "slide"
    }
   },
   "source": [
    "## Попытка №1\n",
    "\n",
    "Рекомендуем в качестве друзей тех, у кого много общих друзей с нами. Для этого втягиваем в память словарь вида [я->мои друзья], и его же в \"развернутом виде\" [я->те у кого я в друзьях]\n",
    "\n",
    "### Готовим окружение"
   ]
  },
  {
   "cell_type": "code",
   "execution_count": null,
   "metadata": {
    "slideshow": {
     "slide_type": "fragment"
    }
   },
   "outputs": [],
   "source": [
    "import csv, gzip, os, random, numpy, math, timeit, copy\n",
    "\n",
    "from collections import defaultdict\n",
    "\n",
    "# Пути к данным\n",
    "dataPath = \"./\"\n",
    "graphPath = os.path.join(dataPath, \"trainGraph\")\n",
    "demographyPath = os.path.join(dataPath, \"coreDemography\")\n",
    "csv.field_size_limit(200000)\n",
    "\n",
    "# Утилитка для замера памяти\n",
    "def memory_usage():\n",
    "    process = psutil.Process(os.getpid())\n",
    "    print(\"Memory usage {0!s} mb.\".format(process.memory_info()[0] / 1024 / 1024))"
   ]
  },
  {
   "cell_type": "markdown",
   "metadata": {
    "slideshow": {
     "slide_type": "slide"
    }
   },
   "source": [
    "## Попытка №1 - читаем данные"
   ]
  },
  {
   "cell_type": "code",
   "execution_count": null,
   "metadata": {},
   "outputs": [],
   "source": [
    "%%time\n",
    "mineFriends = defaultdict(list)\n",
    "friendsOfMine = defaultdict(list)\n",
    "\n",
    "# Итерируемся по файлам в папке\n",
    "for file in [f for f in os.listdir(graphPath) if f.endswith(\"csv\")]:\n",
    "    csv_reader = csv.reader(open(os.path.join(graphPath, file)), delimiter='\\t')\n",
    "    # А теперь по строкам в файле\n",
    "    for line in csv_reader:\n",
    "        user = int(line[0]) \n",
    "        # Разбираем идшки и маски друзей\n",
    "        for friendship in line[1].replace(\"{(\", \"\").replace(\")}\", \"\").split(\"),(\"):\n",
    "            parts=friendship.split(\",\")\n",
    "            friend = int(parts[0])\n",
    "            mineFriends[user] += [friend]\n",
    "            friendsOfMine[friend] += [user]"
   ]
  },
  {
   "cell_type": "markdown",
   "metadata": {
    "slideshow": {
     "slide_type": "slide"
    }
   },
   "source": [
    "## Попытка №1 - тревожные сигналы\n",
    "\n",
    "2 минуты на загрузку 152 мегабайт явно долговато, а что по памяти?"
   ]
  },
  {
   "cell_type": "code",
   "execution_count": null,
   "metadata": {},
   "outputs": [],
   "source": [
    "memory_usage()"
   ]
  },
  {
   "cell_type": "markdown",
   "metadata": {
    "slideshow": {
     "slide_type": "fragment"
    }
   },
   "source": [
    "Все бы ничего, но два словарика в памяти __уже__ заняли больше трех гигабайт и дальше ворочать их будет неудобно. Но поробуем..."
   ]
  },
  {
   "cell_type": "markdown",
   "metadata": {
    "slideshow": {
     "slide_type": "slide"
    }
   },
   "source": [
    "## Попытка №1 - пробуем расчет"
   ]
  },
  {
   "cell_type": "code",
   "execution_count": null,
   "metadata": {
    "collapsed": true
   },
   "outputs": [],
   "source": [
    "%%time\n",
    "friendsOfFriends = defaultdict(lambda: defaultdict(int))\n",
    "\n",
    "for (user,friends) in mineFriends.iteritems():\n",
    "    for friend in friends:\n",
    "        for theirFriend in friendsOfMine[friend]:\n",
    "            friendsOfFriends[user][theirFriend] += 1"
   ]
  },
  {
   "cell_type": "markdown",
   "metadata": {
    "slideshow": {
     "slide_type": "slide"
    }
   },
   "source": [
    "## Попытка №1 - работа над ошибками"
   ]
  },
  {
   "cell_type": "code",
   "execution_count": null,
   "metadata": {},
   "outputs": [],
   "source": [
    "memory_usage()"
   ]
  },
  {
   "cell_type": "markdown",
   "metadata": {
    "slideshow": {
     "slide_type": "fragment"
    }
   },
   "source": [
    "### Применительно к нашей задаче\n",
    "\n",
    "* Оценим объем данных\n",
    "* Не забудем о накладных расходах!"
   ]
  },
  {
   "cell_type": "markdown",
   "metadata": {
    "slideshow": {
     "slide_type": "slide"
    }
   },
   "source": [
    "## Разбор полетов - исследуем данные\n",
    "\n",
    "Если с ходу не получилось, значит пришло время задуматся о том, как использовать память эффективнее. Для начала давайте попробуем прикинуть базовые показатели графа с которым работаем."
   ]
  },
  {
   "cell_type": "code",
   "execution_count": null,
   "metadata": {
    "slideshow": {
     "slide_type": "slide"
    }
   },
   "outputs": [],
   "source": [
    "numUsersFrom = 0\n",
    "numLinks = 0\n",
    "maxUserIdFrom = 0\n",
    "maxUserIdTo = 0\n",
    "allIds = set()\n",
    "\n",
    "for file in [f for f in os.listdir(graphPath) if f.endswith(\"csv\")]:\n",
    "    csv_reader = csv.reader(open(os.path.join(graphPath, file)), delimiter='\\t')\n",
    "    for line in csv_reader:\n",
    "        user = int(line[0])\n",
    "        numUsersFrom += 1\n",
    "        maxUserIdFrom = max(user,maxUserIdFrom)\n",
    "        allIds.add(user)\n",
    "        for friendship in line[1].replace(\"{(\", \"\").replace(\")}\", \"\").split(\"),(\"):\n",
    "            parts=friendship.split(\",\")\n",
    "            friend = int(parts[0])\n",
    "            allIds.add(friend)\n",
    "            numLinks += 1\n",
    "            maxUserIdTo = max(maxUserIdTo,friend)\n",
    "            \n",
    "print(\"Num users from {0}, max {1}, num total {2}, max {3}, num links {4}\".format(\n",
    "        numUsersFrom, maxUserIdFrom, len(allIds), maxUserIdTo,numLinks))"
   ]
  },
  {
   "cell_type": "markdown",
   "metadata": {
    "slideshow": {
     "slide_type": "slide"
    }
   },
   "source": [
    "### Оценим объем нужной памяти\n",
    "\n",
    "На одну связь надо 2 идишки, которые 4-х байтовый инт"
   ]
  },
  {
   "cell_type": "code",
   "execution_count": null,
   "metadata": {},
   "outputs": [],
   "source": [
    "numLinks * (4 + 4) / 1024 / 1024"
   ]
  },
  {
   "cell_type": "markdown",
   "metadata": {
    "slideshow": {
     "slide_type": "fragment"
    }
   },
   "source": [
    "__Почему вместо 300Мб мы получили сразу 3Гб? Почему??!!__"
   ]
  },
  {
   "cell_type": "markdown",
   "metadata": {
    "slideshow": {
     "slide_type": "slide"
    }
   },
   "source": [
    "## Разбор полетов - лезем в код\n",
    "\n",
    "```c\n",
    "#define PyDict_MINSIZE 8\n",
    "typedef struct _dictobject PyDictObject;\n",
    "struct _dictobject {\n",
    "  ...\n",
    "  PyDictEntry *ma_table;\n",
    "  ...\n",
    "};\n",
    "\n",
    "typedef struct {\n",
    "  Py_ssize_t me_hash;\n",
    "  PyObject *me_key;\n",
    "  PyObject *me_value;\n",
    "} PyDictEntry;\n",
    "```"
   ]
  },
  {
   "cell_type": "markdown",
   "metadata": {
    "slideshow": {
     "slide_type": "slide"
    }
   },
   "source": [
    "## Хэш-таблица с открытой адресацией\n",
    "\n",
    "<img src=\"https://upload.wikimedia.org/wikipedia/commons/b/bf/Hash_table_5_0_1_1_1_1_0_SP.svg\" width=\"800\" />"
   ]
  },
  {
   "cell_type": "markdown",
   "metadata": {
    "slideshow": {
     "slide_type": "slide"
    }
   },
   "source": [
    "## Разбор полетов - считаем накладные расходы\n",
    "\n",
    "* На запись\n",
    "  * +8 байт на указатель на запись\n",
    "  * +4 байта на хэш\n",
    "  * +8*2 байтов на указатели на ключ/значение\n",
    "* +30% свободных ячеек\n",
    "* х2 свободных ячеек при копировании"
   ]
  },
  {
   "cell_type": "code",
   "execution_count": null,
   "metadata": {},
   "outputs": [],
   "source": [
    "(numLinks * (8 + (8 + 4 + 16)) + 1.3 * 2 * 8 * numLinks) / 1024 / 1024"
   ]
  },
  {
   "cell_type": "markdown",
   "metadata": {
    "slideshow": {
     "slide_type": "fragment"
    }
   },
   "source": [
    "Становится яснее!"
   ]
  },
  {
   "cell_type": "markdown",
   "metadata": {
    "slideshow": {
     "slide_type": "slide"
    }
   },
   "source": [
    "## А ведь есть еще вопрос локальности данных!\n",
    "\n",
    "<center>\n",
    "<img src=\"https://s3.amazonaws.com/media-p.slid.es/uploads/71982/images/2310246/figure04-caching-pyramid.png\" width=\"600\"/>\n",
    "</center>\n",
    "\n",
    "| Source   | Latency       |\n",
    "| ---------|:-------------:|\n",
    "| L1 Cache |  1-2 ns       |\n",
    "| L2 Cache |  3-5 ns       |\n",
    "| L3 Cache |  10-40 ns     |\n",
    "| DRAM     |  60-100 ns    |\n",
    "\n"
   ]
  },
  {
   "cell_type": "markdown",
   "metadata": {
    "slideshow": {
     "slide_type": "slide"
    }
   },
   "source": [
    "## Чем дальше в лес, тем толще партизаны - боксинг\n",
    "```c\n",
    "#define PyObject_HEAD                   \\\n",
    "    _PyObject_HEAD_EXTRA                \\\n",
    "    Py_ssize_t ob_refcnt;               \\\n",
    "    struct _typeobject *ob_type;\n",
    "\n",
    "typedef struct {\n",
    "    PyObject_HEAD\n",
    "    long ob_ival;\n",
    "} PyIntObject;\n",
    "```"
   ]
  },
  {
   "cell_type": "markdown",
   "metadata": {
    "slideshow": {
     "slide_type": "fragment"
    }
   },
   "source": [
    "Кладя инт в \"коробку\" получаем 20 байт вместо 4-х, итого:"
   ]
  },
  {
   "cell_type": "code",
   "execution_count": null,
   "metadata": {},
   "outputs": [],
   "source": [
    "(numLinks * ((20 + 20) + (8 + 4 + 16)) + 1.3 * 2 * 8 * numLinks) / 1024 / 1024"
   ]
  },
  {
   "cell_type": "markdown",
   "metadata": {
    "slideshow": {
     "slide_type": "slide"
    }
   },
   "source": [
    "## Разбор полетов - все проблемы вскрыли?"
   ]
  },
  {
   "cell_type": "markdown",
   "metadata": {
    "slideshow": {
     "slide_type": "fragment"
    }
   },
   "source": [
    "__Проблема заполнености__ - общие друзья есть у гораздо большего числа пар пользователей."
   ]
  },
  {
   "cell_type": "code",
   "execution_count": null,
   "metadata": {},
   "outputs": [],
   "source": [
    "numUsersFrom * numUsersFrom * 4 / 1024 / 1024"
   ]
  },
  {
   "cell_type": "markdown",
   "metadata": {
    "slideshow": {
     "slide_type": "fragment"
    }
   },
   "source": [
    "### Применительно к нашей задаче\n",
    "\n",
    "* Считаем общих друзей только там, где это нужно (входят в тестовое множество)"
   ]
  },
  {
   "cell_type": "markdown",
   "metadata": {
    "slideshow": {
     "slide_type": "slide"
    }
   },
   "source": [
    "## Попытка №2\n",
    "\n",
    "* Выбираем структуру данных\n",
    "* Втягиваем правильно\n",
    "* Считаем общих друзей для целевых юзеров\n",
    "* Сабмитим\n",
    "* Профит!"
   ]
  },
  {
   "cell_type": "markdown",
   "metadata": {
    "slideshow": {
     "slide_type": "slide"
    }
   },
   "source": [
    "## Выбираем структуры данных"
   ]
  },
  {
   "cell_type": "markdown",
   "metadata": {
    "slideshow": {
     "slide_type": "subslide"
    }
   },
   "source": [
    "### Словари\n",
    "\n",
    "* Легко пользоватся.\n",
    "* Но _ОЧЕНЬ_ много накладных расходов: указатель на запись, указатель на ключ/значение, объектная обертка для ключа и значения.\n",
    "* Итого: на пару инт-инт _накладных_ расходов 48 байт.\n",
    "* Данные размазаны по памяти и фрагментированны - кеш процессора резко терят эффективность."
   ]
  },
  {
   "cell_type": "markdown",
   "metadata": {
    "slideshow": {
     "slide_type": "slide"
    }
   },
   "source": [
    "### Списки\n",
    "\n",
    "* Если ключ инт - можно использовать вместо словаря.\n",
    "* НО! Список в питоне это массив указателей, а значит накладные расходы на указатель и объектную обертку ключа. остаются - 20 байт накладных расходов на запись :(.\n",
    "* Проблема с потерей эффективности кеша сохраняется."
   ]
  },
  {
   "cell_type": "markdown",
   "metadata": {
    "slideshow": {
     "slide_type": "subslide"
    }
   },
   "source": [
    "### Массивы numpy\n",
    "\n",
    "* На пару инт-инт нужно всего 4 байта.\n",
    "* Кеш процессора работает.\n",
    "* Но нужно чтобы ключи шли последовательно (к счастью, в наших даных это так почти так: максимальный ид 16619131 при общем числе 12417564).\n",
    "* Для того чтобы заполнить массив _очень_ желательно знать его размер изначально.\n",
    "* Если делать двумерный массив 100к на 16м - будет очень, очень, очень больно..."
   ]
  },
  {
   "cell_type": "markdown",
   "metadata": {
    "slideshow": {
     "slide_type": "subslide"
    }
   },
   "source": [
    "### Спарс матрицы scipy\n",
    "\n",
    "* Предназначены для хранения двухмерных матриц с очень большим количеством нулей.\n",
    "* Эффективные варианты хранят в виде нескольких массивов numpy.\n",
    "* COO - три массива одинаковой длинны моделируют списов троек [(i,j,v)]. Просто строить, легко интегрировать с пандой.\n",
    "* CSR - один маленьки массив с индексом начала для каждого ряда (монотонно растет), и два массива равно длинны с ид колонки и значением: [{i : [(j,v)]}]. Более компактна в памяти, быстрые опреации.\n",
    "* CSC - тоже самое что CSR, но индексированны колонки."
   ]
  },
  {
   "cell_type": "markdown",
   "metadata": {
    "slideshow": {
     "slide_type": "subslide"
    }
   },
   "source": [
    "#### CSR matrix\n",
    "<img src=\"http://hamukazu.com/wp-content/uploads/2014/12/csr_matrix.png\" width=\"800\"/>\n",
    "\n",
    "#### CSC matrix\n",
    "<img src=\"http://hamukazu.com/wp-content/uploads/2014/12/csc_matrix2.png\" width=\"800\"/>"
   ]
  },
  {
   "cell_type": "markdown",
   "metadata": {
    "slideshow": {
     "slide_type": "slide"
    }
   },
   "source": [
    "## Попытка № 2 - наш выбор\n",
    "\n",
    "* Инициализруем граф в виде COO матрицы, затем переводим в CSR.\n",
    "* Развернутый граф получаем с помощью транспонирования.\n",
    "* Общих друзей считаем умножая матрицы."
   ]
  },
  {
   "cell_type": "markdown",
   "metadata": {
    "slideshow": {
     "slide_type": "fragment"
    }
   },
   "source": [
    "#### Умножение матриц? WTF?\n",
    "\n",
    "<img src=\"https://www.mathsisfun.com/algebra/images/matrix-multiply-a.gif\" width=\"800\"/>"
   ]
  },
  {
   "cell_type": "markdown",
   "metadata": {
    "slideshow": {
     "slide_type": "slide"
    }
   },
   "source": [
    "## Попытка №2 - готовим окружение"
   ]
  },
  {
   "cell_type": "code",
   "execution_count": null,
   "metadata": {
    "slideshow": {
     "slide_type": "-"
    }
   },
   "outputs": [],
   "source": [
    "# Почистим шлак и оставим константы чтоб потом не пресчитывать\n",
    "del allIds\n",
    "maxUserId = 16619131\n",
    "numLinks = 38031656"
   ]
  },
  {
   "cell_type": "code",
   "execution_count": null,
   "metadata": {
    "collapsed": true
   },
   "outputs": [],
   "source": [
    "# Эффективные массивы простых типов\n",
    "import numpy\n",
    "# Работа с матрицами (подсчет общих друзей реализован как умножение матрицы графа самое на себя)\n",
    "import scipy\n",
    "from scipy.sparse import coo_matrix, csr_matrix"
   ]
  },
  {
   "cell_type": "markdown",
   "metadata": {
    "slideshow": {
     "slide_type": "slide"
    }
   },
   "source": [
    "## Попытка №2 - читаем матрицу"
   ]
  },
  {
   "cell_type": "code",
   "execution_count": null,
   "metadata": {},
   "outputs": [],
   "source": [
    "formUser = numpy.zeros( (numLinks), dtype=numpy.int32 ) \n",
    "toUser = numpy.zeros( (numLinks), dtype=numpy.int32 ) \n",
    "data = numpy.ones( (numLinks), dtype=numpy.int16 ) \n",
    "\n",
    "current = 0\n",
    "\n",
    "# Итерируемся по файлам в папке... \n",
    "for file in [f for f in os.listdir(graphPath) if f.endswith(\"csv\")]:\n",
    "    csv_reader = csv.reader(open(os.path.join(graphPath, file)), delimiter='\\t')\n",
    "\n",
    "    for line in csv_reader:\n",
    "        user = int(line[0]) \n",
    "        maxUserId = max(user,maxUserId)\n",
    "        # Разбираем идшки и маски друзей\n",
    "        for friendship in line[1].replace(\"{(\", \"\").replace(\")}\", \"\").split(\"),(\"):\n",
    "            parts=friendship.split(\",\")\n",
    "            # Записываем связь в массивы и двигаем указатель\n",
    "            formUser[current] = user\n",
    "            friend = int(parts[0])\n",
    "            toUser[current] = friend\n",
    "            maxUserId = max(friend,maxUserId)\n",
    "            current += 1\n",
    "            "
   ]
  },
  {
   "cell_type": "markdown",
   "metadata": {},
   "source": [
    "Собственно из массивов создаем COO матрицу"
   ]
  },
  {
   "cell_type": "code",
   "execution_count": null,
   "metadata": {
    "slideshow": {
     "slide_type": "-"
    }
   },
   "outputs": [],
   "source": [
    "fullMatrix = coo_matrix(\n",
    "    (data, (formUser, toUser)),\n",
    "    shape=(maxUserId + 1, maxUserId + 1)).tocsr()"
   ]
  },
  {
   "cell_type": "markdown",
   "metadata": {
    "slideshow": {
     "slide_type": "fragment"
    }
   },
   "source": [
    "В матрице три массива, соответственно легко померять сколько памяти она занимает"
   ]
  },
  {
   "cell_type": "code",
   "execution_count": null,
   "metadata": {},
   "outputs": [],
   "source": [
    "(fullMatrix.data.nbytes + fullMatrix.indptr.nbytes + fullMatrix.indices.nbytes) / (1024 * 1024)"
   ]
  },
  {
   "cell_type": "markdown",
   "metadata": {
    "slideshow": {
     "slide_type": "fragment"
    }
   },
   "source": [
    "Теперь аккуратно вычистим ненужное"
   ]
  },
  {
   "cell_type": "code",
   "execution_count": null,
   "metadata": {
    "collapsed": true
   },
   "outputs": [],
   "source": [
    "del formUser\n",
    "del toUser\n",
    "del data  "
   ]
  },
  {
   "cell_type": "markdown",
   "metadata": {
    "slideshow": {
     "slide_type": "slide"
    }
   },
   "source": [
    "## Попытка №2 - считаем общих друзей для пользователей, по которым необходимо сформировать предсказание"
   ]
  },
  {
   "cell_type": "code",
   "execution_count": null,
   "metadata": {
    "collapsed": true
   },
   "outputs": [],
   "source": [
    "validationUsers = set()\n",
    "csv_reader = csv.reader(open(os.path.join(dataPath, \"prediction.csv\")))\n",
    "for line in csv_reader: validationUsers.add(int(line[0]))"
   ]
  },
  {
   "cell_type": "code",
   "execution_count": null,
   "metadata": {},
   "outputs": [],
   "source": [
    "validationMatrix = copy.deepcopy(fullMatrix)\n",
    "\n",
    "for i in range(maxUserId + 1):\n",
    "    if i not in validationUsers:\n",
    "        ptr = validationMatrix.indptr[i]\n",
    "        ptr_next = validationMatrix.indptr[i+1]\n",
    "        if ptr != ptr_next:\n",
    "            validationMatrix.data[ptr:ptr_next].fill(0)\n",
    "            "
   ]
  },
  {
   "cell_type": "code",
   "execution_count": null,
   "metadata": {
    "collapsed": true
   },
   "outputs": [],
   "source": [
    "validationMatrix.eliminate_zeros()"
   ]
  },
  {
   "cell_type": "code",
   "execution_count": null,
   "metadata": {},
   "outputs": [],
   "source": [
    "%%time\n",
    "commonFriends = validationMatrix.dot(fullMatrix)"
   ]
  },
  {
   "cell_type": "code",
   "execution_count": null,
   "metadata": {},
   "outputs": [],
   "source": [
    "memory_usage()"
   ]
  },
  {
   "cell_type": "code",
   "execution_count": null,
   "metadata": {},
   "outputs": [],
   "source": [
    "len(validationUsers)"
   ]
  },
  {
   "cell_type": "markdown",
   "metadata": {
    "slideshow": {
     "slide_type": "slide"
    }
   },
   "source": [
    "## Что будет, если мы попробуем посчитать общих друзей для всех пользователей"
   ]
  },
  {
   "cell_type": "code",
   "execution_count": null,
   "metadata": {},
   "outputs": [],
   "source": [
    "%%time\n",
    "commonFriends = fullMatrix.dot(fullMatrix)"
   ]
  },
  {
   "cell_type": "code",
   "execution_count": null,
   "metadata": {},
   "outputs": [],
   "source": [
    "memory_usage()"
   ]
  },
  {
   "cell_type": "markdown",
   "metadata": {
    "slideshow": {
     "slide_type": "slide"
    }
   },
   "source": [
    "## Семинар\n",
    "\n",
    "Для каждого пользователя посчитать оценку его возраста, как средние от возрастов его друзей"
   ]
  },
  {
   "cell_type": "code",
   "execution_count": null,
   "metadata": {},
   "outputs": [],
   "source": [
    "demographyPath"
   ]
  },
  {
   "cell_type": "code",
   "execution_count": null,
   "metadata": {
    "collapsed": true
   },
   "outputs": [],
   "source": [
    "birthDates = numpy.zeros(maxUserId + 1, dtype=numpy.int32)\n",
    "\n",
    "# Iterate all files in demography path\n",
    "for file in [f for f in os.listdir(demographyPath) if f.endswith(\"gz\")]:\n",
    "    csvinput = gzip.open(os.path.join(demographyPath, file))\n",
    "    csv_reader = csv.reader(csvinput, delimiter='\\t')\n",
    "   \n",
    "    # Extract birth date from each line\n",
    "    for line in csv_reader:\n",
    "        user = int(line[0])\n",
    "        birthDates[user] = int(line[2]) if line[2] != '' else 0"
   ]
  },
  {
   "cell_type": "code",
   "execution_count": null,
   "metadata": {},
   "outputs": [],
   "source": [
    "print (\"Memory used by demography: %s (mb)\" % (birthDates.nbytes / (1024 * 1024)))"
   ]
  },
  {
   "cell_type": "code",
   "execution_count": null,
   "metadata": {
    "collapsed": true
   },
   "outputs": [],
   "source": []
  }
 ],
 "metadata": {
  "anaconda-cloud": {},
  "celltoolbar": "Slideshow",
  "kernelspec": {
   "display_name": "Python 3",
   "language": "python",
   "name": "python3"
  },
  "language_info": {
   "codemirror_mode": {
    "name": "ipython",
    "version": 3
   },
   "file_extension": ".py",
   "mimetype": "text/x-python",
   "name": "python",
   "nbconvert_exporter": "python",
   "pygments_lexer": "ipython3",
   "version": "3.4.3"
  }
 },
 "nbformat": 4,
 "nbformat_minor": 1
}
